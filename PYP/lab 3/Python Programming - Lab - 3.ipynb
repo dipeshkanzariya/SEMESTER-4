{
 "cells": [
  {
   "cell_type": "code",
   "execution_count": null,
   "metadata": {},
   "outputs": [],
   "source": [
    "Name : Kanzariya Dipesh A.\n",
    "Enrollment no : 21010101098\n",
    "Roll no : 236"
   ]
  },
  {
   "cell_type": "markdown",
   "metadata": {},
   "source": [
    "\n",
    "<a href='https://www.darshan.ac.in/'> <img src='https://www.darshan.ac.in/Content/media/DU_Logo.svg' width=\"250\" height=\"300\"/></a>\n",
    "<pre>\n",
    "<center><b><h1>Python Programming - 2101CS405</b></center>\n",
    "<center><b><h1>Lab - 3</b></center>    \n",
    "<pre>"
   ]
  },
  {
   "cell_type": "markdown",
   "metadata": {},
   "source": [
    "# for and while loop"
   ]
  },
  {
   "cell_type": "markdown",
   "metadata": {},
   "source": [
    "### 01) WAP to print 1 to 10"
   ]
  },
  {
   "cell_type": "code",
   "execution_count": 1,
   "metadata": {},
   "outputs": [
    {
     "name": "stdout",
     "output_type": "stream",
     "text": [
      "1\n",
      "2\n",
      "3\n",
      "4\n",
      "5\n",
      "6\n",
      "7\n",
      "8\n",
      "9\n",
      "10\n"
     ]
    }
   ],
   "source": [
    "for i in range(1,11):\n",
    "    print(i)"
   ]
  },
  {
   "cell_type": "markdown",
   "metadata": {},
   "source": [
    "### 02) WAP to print 1 to n"
   ]
  },
  {
   "cell_type": "code",
   "execution_count": 2,
   "metadata": {},
   "outputs": [
    {
     "name": "stdout",
     "output_type": "stream",
     "text": [
      "1\n",
      "2\n",
      "3\n",
      "4\n",
      "5\n",
      "6\n",
      "7\n",
      "8\n",
      "9\n",
      "10\n"
     ]
    }
   ],
   "source": [
    "n = int(input('Enter n : '))\n",
    "\n",
    "for i in range(1,n+1):\n",
    "    print(i)"
   ]
  },
  {
   "cell_type": "markdown",
   "metadata": {},
   "source": [
    "### 03) WAP to print odd numbers between 1 to n"
   ]
  },
  {
   "cell_type": "code",
   "execution_count": null,
   "metadata": {},
   "outputs": [],
   "source": [
    "n = int(input('Enter n : '))\n",
    "\n",
    "for i in range(1,n+1):\n",
    "    if i % 2 != 0:\n",
    "        print(i)"
   ]
  },
  {
   "cell_type": "markdown",
   "metadata": {},
   "source": [
    "### 04) WAP to print numbers between two given numbers which is divisible by 2 but not divisible by 3"
   ]
  },
  {
   "cell_type": "code",
   "execution_count": null,
   "metadata": {},
   "outputs": [],
   "source": [
    "a = int(input('Enter first no : '))\n",
    "b = int(input('Enter second no : '))\n",
    "\n",
    "for i in range(a,b+1):\n",
    "    if i % 2 == 0 and i % 3 != 0:\n",
    "        print(i)"
   ]
  },
  {
   "cell_type": "markdown",
   "metadata": {},
   "source": [
    "### 05) WAP to print sum of 1 to n numbers"
   ]
  },
  {
   "cell_type": "code",
   "execution_count": null,
   "metadata": {},
   "outputs": [],
   "source": [
    "n = int(input('Enter n : '))\n",
    "sum = 0\n",
    "\n",
    "for i in range(1,n+1):\n",
    "    sum += i;\n",
    "\n",
    "print('sum = ',sum)"
   ]
  },
  {
   "cell_type": "markdown",
   "metadata": {},
   "source": [
    "### 06) WAP to print sum of series 1 + 4 + 9 + 16 + 25 + 36 + ...n"
   ]
  },
  {
   "cell_type": "code",
   "execution_count": null,
   "metadata": {},
   "outputs": [],
   "source": [
    "n = int(input('Enter n : '))\n",
    "sum = 0\n",
    "\n",
    "for i in range(1,n+1):\n",
    "    sum += i * i;\n",
    "\n",
    "print('sum of square = ',sum)"
   ]
  },
  {
   "cell_type": "markdown",
   "metadata": {},
   "source": [
    "### 07) WAP to print sum of series 1 – 2 + 3 – 4 + 5 – 6 + 7 ... n"
   ]
  },
  {
   "cell_type": "code",
   "execution_count": null,
   "metadata": {},
   "outputs": [],
   "source": [
    "n = int(input('Enter n : '))\n",
    "sum = 0\n",
    "\n",
    "for i in range(1,n+1):\n",
    "    if i % 2 == 0:\n",
    "        sum += (-i)\n",
    "    else:\n",
    "        sum += i\n",
    "        \n",
    "print('sum = ',sum)"
   ]
  },
  {
   "cell_type": "markdown",
   "metadata": {},
   "source": [
    "### 08) WAP to print multiplication table of given number."
   ]
  },
  {
   "cell_type": "code",
   "execution_count": null,
   "metadata": {},
   "outputs": [],
   "source": [
    "n = int(input('Enter n : '))\n",
    "\n",
    "for i in range(1,11):\n",
    "    print(n,' * ',i,' = ',n*i)"
   ]
  },
  {
   "cell_type": "markdown",
   "metadata": {},
   "source": [
    "### 09) WAP to find factorial of the given number"
   ]
  },
  {
   "cell_type": "code",
   "execution_count": null,
   "metadata": {},
   "outputs": [],
   "source": [
    "n = int(input('Enter n : '))\n",
    "fact = 1\n",
    "\n",
    "for i in range(1,n+1):\n",
    "    fact *= i;\n",
    "    \n",
    "print('factorial of ',n,' = ',fact)"
   ]
  },
  {
   "cell_type": "markdown",
   "metadata": {},
   "source": [
    "### 10) WAP to find factors of the given number"
   ]
  },
  {
   "cell_type": "code",
   "execution_count": null,
   "metadata": {},
   "outputs": [],
   "source": [
    "n = int(input('Enter n : '))\n",
    "print('Factors of ',n,' are : ')\n",
    "for i in range(1,n+1):\n",
    "    if n % i == 0:\n",
    "        print(i)"
   ]
  },
  {
   "cell_type": "markdown",
   "metadata": {},
   "source": [
    "### 11) WAP to find whether the given number is prime or not."
   ]
  },
  {
   "cell_type": "code",
   "execution_count": null,
   "metadata": {},
   "outputs": [],
   "source": [
    "n = int(input('Enter n : '))\n",
    "flag = 0\n",
    "for i in range(2,n):\n",
    "    if n % i == 0:\n",
    "        flag = 1\n",
    "        break\n",
    "    \n",
    "if flag == 0:\n",
    "    print('Given number is prime')\n",
    "else:\n",
    "    print('Given number is non-prime')"
   ]
  },
  {
   "cell_type": "markdown",
   "metadata": {},
   "source": [
    "### 12) WAP to print sum of digits of given number"
   ]
  },
  {
   "cell_type": "code",
   "execution_count": null,
   "metadata": {},
   "outputs": [],
   "source": [
    "n= int(input('Enter n : '))\n",
    "sum = 0\n",
    "\n",
    "while n != 0:\n",
    "    x = n % 10\n",
    "    n = int(n / 10)\n",
    "    sum += x\n",
    "      \n",
    "print('sum of digit = ',sum)"
   ]
  },
  {
   "cell_type": "markdown",
   "metadata": {},
   "source": [
    "### 13) WAP to check whether the given number is palindrome or not"
   ]
  },
  {
   "cell_type": "code",
   "execution_count": null,
   "metadata": {},
   "outputs": [],
   "source": [
    "n= int(input('Enter n : '))\n",
    "a = n\n",
    "rev = 0\n",
    "\n",
    "while n != 0:\n",
    "    x = n % 10\n",
    "    n = int(n / 10)\n",
    "    rev = (rev * 10) + x\n",
    "       \n",
    "if rev == a:\n",
    "    print('Given number is palindrome')\n",
    "else:\n",
    "    print('Given number is non-palindrome')"
   ]
  },
  {
   "cell_type": "markdown",
   "metadata": {},
   "source": [
    "### 01) WAP to check whether the given number is Armstrong or not."
   ]
  },
  {
   "cell_type": "code",
   "execution_count": null,
   "metadata": {},
   "outputs": [],
   "source": [
    "import math\n",
    "n= int(input('Enter n : '))\n",
    "a = n\n",
    "b = len(str(n))\n",
    "sum = 0\n",
    "\n",
    "while n!= 0:\n",
    "    x = n % 10\n",
    "    n = int(n / 10)\n",
    "    sum = sum + math.pow(x,b)\n",
    "    \n",
    "if sum == a:\n",
    "    print('Given number is armstrong')\n",
    "else:\n",
    "    print('Given number is non-armstrong')"
   ]
  },
  {
   "cell_type": "markdown",
   "metadata": {},
   "source": [
    "### 02) WAP to find out prime numbers between given two numbers."
   ]
  },
  {
   "cell_type": "code",
   "execution_count": null,
   "metadata": {},
   "outputs": [],
   "source": [
    "a = int(input('Enter a : '))\n",
    "b = int(input('Enter b : '))\n",
    "\n",
    "for num in range(a,b+1):\n",
    "    if num > 1:\n",
    "        for i in range(2,num):\n",
    "            if num % i == 0:\n",
    "                break\n",
    "        else:\n",
    "            print(num)"
   ]
  },
  {
   "cell_type": "markdown",
   "metadata": {},
   "source": [
    "### 03) WAP to calculate x^y without using any function."
   ]
  },
  {
   "cell_type": "code",
   "execution_count": null,
   "metadata": {},
   "outputs": [],
   "source": [
    "x = int(input('Enter x : '))\n",
    "y = int(input('Enter y : '))\n",
    "\n",
    "pow = x ** y\n",
    "\n",
    "print('Ans = ',pow)"
   ]
  },
  {
   "cell_type": "markdown",
   "metadata": {},
   "source": [
    "### 04) WAP to check whether the given number is perfect or not.\n",
    "[Sum of factors including 1 excluding number itself]"
   ]
  },
  {
   "cell_type": "code",
   "execution_count": null,
   "metadata": {},
   "outputs": [],
   "source": [
    "n = int(input('Enter no : '))\n",
    "sum = 0\n",
    "\n",
    "for i in range(1,n):\n",
    "    if n % i == 0:\n",
    "        sum += i\n",
    "        \n",
    "if sum == n:\n",
    "    print('Given number is perfect')\n",
    "else:\n",
    "    print('Given number is not perfect')"
   ]
  },
  {
   "cell_type": "markdown",
   "metadata": {},
   "source": [
    "### 05) WAP to find the sum of 1 + (1+2) + (1+2+3) + (1+2+3+4)+...+(1+2+3+4+....+n)"
   ]
  },
  {
   "cell_type": "code",
   "execution_count": null,
   "metadata": {},
   "outputs": [],
   "source": [
    "n = int(input('Enter n : '))\n",
    "sum = 0\n",
    "\n",
    "for i in range(1,n+1):\n",
    "    for j in range(1,i+1):\n",
    "        sum += j;\n",
    "        \n",
    "print('sum = ',sum)"
   ]
  },
  {
   "cell_type": "markdown",
   "metadata": {},
   "source": [
    "### 06) WAP to print Multiplication Table up to n"
   ]
  },
  {
   "cell_type": "code",
   "execution_count": null,
   "metadata": {},
   "outputs": [],
   "source": [
    "x = int(input('Enter x : '))\n",
    "n = int(input('Enter n : '))\n",
    "\n",
    "for i in range(1,n+1):\n",
    "        print(x,' * ',i,' = ',x*i) "
   ]
  }
 ],
 "metadata": {
  "kernelspec": {
   "display_name": "base",
   "language": "python",
   "name": "python3"
  },
  "language_info": {
   "codemirror_mode": {
    "name": "ipython",
    "version": 3
   },
   "file_extension": ".py",
   "mimetype": "text/x-python",
   "name": "python",
   "nbconvert_exporter": "python",
   "pygments_lexer": "ipython3",
   "version": "3.11.1"
  },
  "vscode": {
   "interpreter": {
    "hash": "0ea62ad27a92d0062a763f5c86a410084d6373363fa0092be3fbd0a3801f48ec"
   }
  }
 },
 "nbformat": 4,
 "nbformat_minor": 4
}
