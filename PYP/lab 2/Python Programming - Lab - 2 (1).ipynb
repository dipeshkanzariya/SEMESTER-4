{
 "cells": [
  {
   "cell_type": "code",
   "execution_count": null,
   "metadata": {},
   "outputs": [],
   "source": [
    "Name  : Kanzariya Dipesh A.\n",
    "Enrollment no : 21010101098\n",
    "Roll no : 236"
   ]
  },
  {
   "cell_type": "markdown",
   "metadata": {},
   "source": [
    "\n",
    "<a href='https://www.darshan.ac.in/'> <img src='https://www.darshan.ac.in/Content/media/DU_Logo.svg' width=\"250\" height=\"300\"/></a>\n",
    "<pre>\n",
    "<center><b><h1>Python Programming - 2101CS405</b></center>\n",
    "<center><b><h1>Lab - 2</b></center>    \n",
    "<pre>"
   ]
  },
  {
   "cell_type": "markdown",
   "metadata": {},
   "source": [
    "# if..else.."
   ]
  },
  {
   "cell_type": "markdown",
   "metadata": {},
   "source": [
    "### 01) WAP to check whether the given number is positive or negative."
   ]
  },
  {
   "cell_type": "code",
   "execution_count": null,
   "metadata": {},
   "outputs": [],
   "source": [
    "a=int(input('Enter number : '))\n",
    "if a>0:\n",
    "    print('a is positive')\n",
    "else:\n",
    "    print('a is negative')"
   ]
  },
  {
   "cell_type": "markdown",
   "metadata": {},
   "source": [
    "### 02) WAP to check whether the given number is odd or even"
   ]
  },
  {
   "cell_type": "code",
   "execution_count": 2,
   "metadata": {},
   "outputs": [
    {
     "name": "stdout",
     "output_type": "stream",
     "text": [
      "5  is odd\n"
     ]
    }
   ],
   "source": [
    "a = int(input(\"Enter num : \"))\n",
    "if a%2==0:\n",
    "    print(a,' is even')\n",
    "else:\n",
    "    print(a,' is odd')"
   ]
  },
  {
   "cell_type": "markdown",
   "metadata": {},
   "source": [
    "### 03) WAP to find out largest number from given two numbers using simple if and ternary operator."
   ]
  },
  {
   "cell_type": "code",
   "execution_count": null,
   "metadata": {},
   "outputs": [],
   "source": [
    "a = int(input('Enter a : '))\n",
    "b = int(input('Enter b : '))\n",
    "max = a if a>b else b\n",
    "print(max, 'is largest number')"
   ]
  },
  {
   "cell_type": "markdown",
   "metadata": {},
   "source": [
    "### 04) WAP to find out largest number from given three numbers."
   ]
  },
  {
   "cell_type": "code",
   "execution_count": null,
   "metadata": {},
   "outputs": [],
   "source": [
    "a = int(input('Enter a : '))\n",
    "b = int(input('Enter b : '))\n",
    "c = int(input('Enter c : '))\n",
    "\n",
    "if a>b:\n",
    "    if a>c:\n",
    "        print('a is largest')\n",
    "    else:\n",
    "        print('c is largest')\n",
    "else:\n",
    "    if b>c:\n",
    "        print('b is largest')\n",
    "    else:\n",
    "        print('c is largest')"
   ]
  },
  {
   "cell_type": "markdown",
   "metadata": {},
   "source": [
    "### 05) WAP to check whether the given year is leap year or not.\n",
    "[If a year can be divisible by 4 but not divisible by 100 then it is leap year but if it is divisible by 400 then it is leap year]"
   ]
  },
  {
   "cell_type": "code",
   "execution_count": null,
   "metadata": {},
   "outputs": [],
   "source": [
    "year = int(input('Enter year : '))\n",
    "\n",
    "if year%4==0 and year%100!=0:\n",
    "    print('given year is leap year')\n",
    "elif year%400==0:\n",
    "    print('given year is leap year')\n",
    "else:\n",
    "    print('given year is non leap year')"
   ]
  },
  {
   "cell_type": "markdown",
   "metadata": {},
   "source": [
    "### 06) WAP in python to display the name of the day according to the number given by the user"
   ]
  },
  {
   "cell_type": "code",
   "execution_count": null,
   "metadata": {},
   "outputs": [],
   "source": [
    "day = int(input('enter day between 1 to 7 : '))\n",
    "    \n",
    "if day == 1:\n",
    "    print('Sunday')\n",
    "elif day == 2:\n",
    "    print('Monday')\n",
    "elif day == 3:\n",
    "    print('Tuesday')\n",
    "elif day == 4:\n",
    "    print('Wednesday')\n",
    "elif day == 5:\n",
    "    print('Thursday')\n",
    "elif day == 6:\n",
    "    print('Friday')\n",
    "elif day ==7:\n",
    "    print('Saturday')\n",
    "else:\n",
    "    print('Enter valid day number')"
   ]
  },
  {
   "cell_type": "markdown",
   "metadata": {},
   "source": [
    "### 07) WAP to implement simple calculator which performs (add,sub,mul,div) of two no. based on user input."
   ]
  },
  {
   "cell_type": "code",
   "execution_count": null,
   "metadata": {},
   "outputs": [],
   "source": [
    "a = float(input('Enter first no : '))\n",
    "b = float(input('Enter second no :' ))\n",
    "\n",
    "print('1 : Addition \\n2 : Subtraction \\n3 : Multiplication \\n4 : Division')\n",
    "ch = int(input('Enter choice : '))\n",
    "\n",
    "if ch == 1:\n",
    "    print('Add = ',a+b)\n",
    "elif ch == 2:\n",
    "    print('sub = ',a-b)\n",
    "elif ch == 3:\n",
    "    print('mul = ',a*b)\n",
    "elif ch == 4:\n",
    "    print('div = ',a/b)\n",
    "else:\n",
    "    print('Enter valid choice')"
   ]
  },
  {
   "cell_type": "markdown",
   "metadata": {},
   "source": [
    "### 08) WAP to calculate electricity bill based on following criteria. Which takes the unit from the user.\n",
    "a. First 1 to 50 units – Rs. 2.60/unit</br>\n",
    "b. Next 50 to 100 units – Rs. 3.25/unit</br>\n",
    "c. Next 100 to 200 units – Rs. 5.26/unit</br>\n",
    "d. above 200 units – Rs. 8.45/unit"
   ]
  },
  {
   "cell_type": "code",
   "execution_count": null,
   "metadata": {},
   "outputs": [],
   "source": [
    "unit = float(input('Enter units : '))\n",
    "bill = 0\n",
    "R\n",
    "if unit < 50:\n",
    "    bill = unit * 2.60\n",
    "    print('bill = ',bill)\n",
    "elif unit > 50 and unit <= 100:\n",
    "    bill = ((unit - 50 ) * 3.25 )+(50 * 2.60)\n",
    "    print('bill = ',bill)\n",
    "elif unit > 100 and unit <= 200:\n",
    "    bill = ((unit -100) * 5.26) + (50 * 2.60) + (50 * 3.25)\n",
    "    print('bill = ',bill)\n",
    "else:\n",
    "    bill = ((unit - 200) * 8.45) + (100 * 5.26) + (50 * 3.25) + (50 * 2.60)\n",
    "    print('bill = ',bill)"
   ]
  },
  {
   "cell_type": "markdown",
   "metadata": {},
   "source": [
    "### 01) WAP to read marks of five subjects. Calculate percentage and print class accordingly. \n",
    "Fail below 35 </br>\n",
    "Pass Class between 35 to 45 </br>\n",
    "Second Class</br>\n",
    "between 45 to 60</br>\n",
    "First Class between 60 to 70</br> \n",
    "Distinction if more than 70"
   ]
  },
  {
   "cell_type": "code",
   "execution_count": null,
   "metadata": {},
   "outputs": [],
   "source": [
    "s1 = float(input('Mark of subject 1 :'))\n",
    "s2 = float(input('Mark of subject 2 :'))\n",
    "s3 = float(input('Mark of subject 3 :'))\n",
    "s4 = float(input('Mark of subject 4 :'))\n",
    "s5 = float(input('Mark of subject 5 :'))\n",
    "\n",
    "p = (s1+s2+s3+s4+s5)/5\n",
    "print('Percentage = ',p,'%')\n",
    "\n",
    "if p < 35 :\n",
    "    print('fail')\n",
    "elif p >= 35 and p < 45:\n",
    "    print('Pass')\n",
    "elif p >= 45 and p < 60:\n",
    "    print('Second class')\n",
    "elif p >= 60 and p < 70:\n",
    "    print('First class')\n",
    "else :\n",
    "    print('distinction')"
   ]
  },
  {
   "cell_type": "markdown",
   "metadata": {},
   "source": [
    "### 02) WAP to find out the Maximum and Minimum number from given 4 numbers."
   ]
  },
  {
   "cell_type": "code",
   "execution_count": null,
   "metadata": {},
   "outputs": [],
   "source": [
    "n1 = int(input('Enter n1 : '))\n",
    "n2 = int(input('Enter n2 : '))\n",
    "n3 = int(input('Enter n3 : '))\n",
    "n4 = int(input('Enter n4 : '))\n",
    "\n",
    "if n1 > n2 and n1 > n3 and n1 > n4:\n",
    "    print('n1 is largest')\n",
    "elif n2 > n3 and n2 > n4:\n",
    "    print('n2 is largest')\n",
    "elif n3 > n4:\n",
    "    print('n3 is largest')\n",
    "else:\n",
    "    print('n4 is lagest')\n",
    "    \n",
    "if n1 < n2 and n1 < n3 and n1 < n4:\n",
    "    print('n1 is smallest')\n",
    "elif n2 < n3 and n2 < n4:\n",
    "    print('n2 is smallest')\n",
    "elif n3 < n4:\n",
    "    print('n3 is smallest')\n",
    "else:\n",
    "    print('n4 is smallest')"
   ]
  },
  {
   "cell_type": "markdown",
   "metadata": {},
   "source": [
    "### 03) WAP to input an integer number and check the last digit of number is even or odd."
   ]
  },
  {
   "cell_type": "code",
   "execution_count": null,
   "metadata": {},
   "outputs": [],
   "source": [
    "num = int(input('Enter the number : '))\n",
    "\n",
    "rem = num % 10\n",
    "\n",
    "if rem % 2 == 0:\n",
    "    print('Last digit is even')\n",
    "else:\n",
    "    print('Last digit is odd')"
   ]
  },
  {
   "cell_type": "markdown",
   "metadata": {},
   "source": [
    "### 04) WAP to determine the roots of the equation ax2+bx+c=0."
   ]
  },
  {
   "cell_type": "code",
   "execution_count": null,
   "metadata": {},
   "outputs": [],
   "source": [
    "a = int(input('Enter a : '))\n",
    "b = int(input('Enter b : '))\n",
    "c = int(input('Enter c : '))\n",
    "\n",
    "d = (b*b) - (4 * a * c)\n",
    "D = d ** 0.5\n",
    "\n",
    "if D < 0:\n",
    "    x1 = "
   ]
  }
 ],
 "metadata": {
  "kernelspec": {
   "display_name": "Python 3",
   "language": "python",
   "name": "python3"
  },
  "language_info": {
   "codemirror_mode": {
    "name": "ipython",
    "version": 3
   },
   "file_extension": ".py",
   "mimetype": "text/x-python",
   "name": "python",
   "nbconvert_exporter": "python",
   "pygments_lexer": "ipython3",
   "version": "3.11.1"
  },
  "vscode": {
   "interpreter": {
    "hash": "65b84045f98086a0d8e94b689679b2d7f3fb11c1f16ebe25d13b9423f88d48c8"
   }
  }
 },
 "nbformat": 4,
 "nbformat_minor": 4
}
