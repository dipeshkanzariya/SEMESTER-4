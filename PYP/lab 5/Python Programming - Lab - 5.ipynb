{
 "cells": [
  {
   "cell_type": "markdown",
   "metadata": {},
   "source": [
    "\n",
    "<a href='https://www.darshan.ac.in/'> <img src='https://www.darshan.ac.in/Content/media/DU_Logo.svg' width=\"250\" height=\"300\"/></a>\n",
    "<pre>\n",
    "<center><b><h1>Python Programming - 2101CS405</b></center>\n",
    "<center><b><h1>Lab - 5</b></center>    \n",
    "<pre>"
   ]
  },
  {
   "cell_type": "markdown",
   "metadata": {},
   "source": [
    "# list"
   ]
  },
  {
   "cell_type": "markdown",
   "metadata": {},
   "source": [
    "### 01) WAP to find sum of all the elements in List."
   ]
  },
  {
   "cell_type": "code",
   "execution_count": 4,
   "metadata": {},
   "outputs": [
    {
     "name": "stdout",
     "output_type": "stream",
     "text": [
      "Enter the number of elements : 4\n",
      "Enter the number : 1\n",
      "Enter the number : 2\n",
      "Enter the number : 3\n",
      "Enter the number : 4\n",
      "sum of elements is  10\n"
     ]
    }
   ],
   "source": [
    "list = []\n",
    "sum = 0\n",
    "\n",
    "n = int(input('Enter the number of elements : '))\n",
    "\n",
    "for i in range(n):\n",
    "    num = int(input('Enter the number : '))\n",
    "    list.append(num)\n",
    "\n",
    "for i in list:\n",
    "    sum = sum + i\n",
    "\n",
    "print('sum of elements is ',sum)"
   ]
  },
  {
   "cell_type": "markdown",
   "metadata": {},
   "source": [
    "### 02) WAP to find largest element in a List."
   ]
  },
  {
   "cell_type": "code",
   "execution_count": 6,
   "metadata": {},
   "outputs": [
    {
     "name": "stdout",
     "output_type": "stream",
     "text": [
      "Enter the number of elements : 4\n",
      "Enter the number : 100\n",
      "Enter the number : 4557\n",
      "Enter the number : 85\n",
      "Enter the number : 66\n",
      "Largest number from list is  4557\n"
     ]
    }
   ],
   "source": [
    "list = []\n",
    "sum = 0\n",
    "\n",
    "n = int(input('Enter the number of elements : '))\n",
    "\n",
    "for i in range(n):\n",
    "    num = int(input('Enter the number : '))\n",
    "    list.append(num)\n",
    "    \n",
    "print('Largest number from list is ',max(list))\n",
    "    "
   ]
  },
  {
   "cell_type": "markdown",
   "metadata": {},
   "source": [
    "### 03) WAP to split the List into two and append the first part to the end."
   ]
  },
  {
   "cell_type": "code",
   "execution_count": 11,
   "metadata": {},
   "outputs": [
    {
     "name": "stdout",
     "output_type": "stream",
     "text": [
      "Enter the number of elements : 4\n",
      "Enter the number : 1\n",
      "Enter the number : 2\n",
      "Enter the number : 3\n",
      "Enter the number : 4\n",
      "[3, 4, 1, 2]\n"
     ]
    }
   ],
   "source": [
    "list = []\n",
    "sum = 0\n",
    "\n",
    "n = int(input('Enter the number of elements : '))\n",
    "\n",
    "for i in range(n):\n",
    "    num = int(input('Enter the number : '))\n",
    "    list.append(num)\n",
    "\n",
    "fList = list[0:int(len(list)/2)];\n",
    "\n",
    "sList = list[int(len(list)/2):]\n",
    "\n",
    "sList += fList\n",
    "\n",
    "print(sList)"
   ]
  },
  {
   "cell_type": "markdown",
   "metadata": {},
   "source": [
    "### 04) WAP to interchange first and last elements in list entered by a user."
   ]
  },
  {
   "cell_type": "code",
   "execution_count": 13,
   "metadata": {},
   "outputs": [
    {
     "name": "stdout",
     "output_type": "stream",
     "text": [
      "Enter the Size of List : 5\n",
      "Enter the value : 1\n",
      "Enter the value : 2\n",
      "Enter the value : 3\n",
      "Enter the value : 4\n",
      "Enter the value : 5\n",
      "['5', '2', '3', '4', '1']\n"
     ]
    }
   ],
   "source": [
    "n = int(input(\"Enter the Size of List : \"))\n",
    "list = [(input(\"Enter the value : \")) for i in range(0,n)]\n",
    "\n",
    "lEl = len(list)-1\n",
    "\n",
    "list[0] , list[-1] = list[-1] , list[0]\n",
    "\n",
    "print(list)\n",
    "    "
   ]
  },
  {
   "cell_type": "markdown",
   "metadata": {},
   "source": [
    "### 05) WAP to interchange the elements on two positions entered by a user."
   ]
  },
  {
   "cell_type": "code",
   "execution_count": 14,
   "metadata": {},
   "outputs": [
    {
     "name": "stdout",
     "output_type": "stream",
     "text": [
      "Enter the Size of List : 6\n",
      "Enter the value : 1\n",
      "Enter the value : 2\n",
      "Enter the value : 3\n",
      "Enter the value : 4\n",
      "Enter the value : 45\n",
      "Enter the value : 6\n",
      "Enter first position : 3\n",
      "Enter second position : 5\n",
      "['1', '2', '3', '6', '45', '4']\n"
     ]
    }
   ],
   "source": [
    "n = int(input(\"Enter the Size of List : \"))\n",
    "list = [(input(\"Enter the value : \")) for i in range(0,n)]\n",
    "\n",
    "lEl = len(list)-1\n",
    "\n",
    "p1 = int(input('Enter first position : '))\n",
    "p2 = int(input('Enter second position : '))\n",
    "\n",
    "list[p1] , list[p2] = list[p2] , list[p1]\n",
    "\n",
    "print(list)"
   ]
  },
  {
   "cell_type": "markdown",
   "metadata": {},
   "source": [
    "### 06) WAP to reverses the list entered by user."
   ]
  },
  {
   "cell_type": "code",
   "execution_count": 17,
   "metadata": {},
   "outputs": [
    {
     "name": "stdout",
     "output_type": "stream",
     "text": [
      "Enter the Size of List : 4\n",
      "Enter the value : 1\n",
      "Enter the value : 2\n",
      "Enter the value : 3\n",
      "Enter the value : 4\n",
      "['4', '3', '2', '1']\n"
     ]
    }
   ],
   "source": [
    "n = int(input(\"Enter the Size of List : \"))\n",
    "list = [(input(\"Enter the value : \")) for i in range(0,n)]\n",
    "\n",
    "list.reverse()\n",
    "\n",
    "print(list)"
   ]
  },
  {
   "cell_type": "markdown",
   "metadata": {},
   "source": [
    "### 07) Python program to remove multiple elements from a list using list comprehension"
   ]
  },
  {
   "cell_type": "code",
   "execution_count": 29,
   "metadata": {},
   "outputs": [
    {
     "name": "stdout",
     "output_type": "stream",
     "text": [
      "Enter the Size of List : 8\n",
      "Enter the value : 1\n",
      "Enter the value : 2\n",
      "Enter the value : 3\n",
      "Enter the value : 4\n",
      "Enter the value : 5\n",
      "Enter the value : 6\n",
      "Enter the value : 7\n",
      "Enter the value : 8\n",
      "\n",
      " ['1', '2', '3', '4', '5', '6', '7', '8']\n",
      "Enter the number of element you want to delete : 2\n",
      "Enter the value : 2\n",
      "Enter the value : 6\n",
      "\n",
      " ['1', '3', '4', '5', '7', '8']\n"
     ]
    }
   ],
   "source": [
    "n = int(input(\"Enter the Size of List : \"))\n",
    "list = [(input(\"Enter the value : \")) for i in range(0,n)]\n",
    "\n",
    "print('\\n',list)\n",
    "\n",
    "a = int(input((\"Enter the number of element you want to delete : \")))\n",
    "\n",
    "rElement = [(input(\"Enter the value : \")) for i in range(0,a)]\n",
    "\n",
    "for i in range(0,a):\n",
    "    list.remove(rElement[i]);\n",
    "    \n",
    "print ('\\n', list)"
   ]
  },
  {
   "cell_type": "markdown",
   "metadata": {},
   "source": [
    "### 08) Create a list from the specified start to end index of another list."
   ]
  },
  {
   "cell_type": "code",
   "execution_count": 20,
   "metadata": {},
   "outputs": [
    {
     "name": "stdout",
     "output_type": "stream",
     "text": [
      "Enter the Size of List : 6\n",
      "Enter the value : 1\n",
      "Enter the value : 2\n",
      "Enter the value : 3\n",
      "Enter the value : 4\n",
      "Enter the value : 5\n",
      "Enter the value : 6\n",
      "Enter starting Index : 2\n",
      "Enter ending Index : 5\n",
      "['3', '4', '5', '6']\n"
     ]
    }
   ],
   "source": [
    "n = int(input(\"Enter the Size of List : \"))\n",
    "list = [(input(\"Enter the value : \")) for i in range(0,n)]\n",
    "\n",
    "sIndex = int(input('Enter starting Index : '))\n",
    "eIndex = int(input('Enter ending Index : '))\n",
    "\n",
    "nList = list[sIndex:(eIndex+1)]\n",
    "\n",
    "print(nList)"
   ]
  },
  {
   "cell_type": "markdown",
   "metadata": {},
   "source": [
    "### 09) Input comma separated elements, convert into list and print."
   ]
  },
  {
   "cell_type": "code",
   "execution_count": 22,
   "metadata": {},
   "outputs": [
    {
     "name": "stdout",
     "output_type": "stream",
     "text": [
      "Enter the comma separated elements : 1,2,3,4,5,6,7\n",
      "['1', '2', '3', '4', '5', '6', '7']\n"
     ]
    }
   ],
   "source": [
    "string = input(\"Enter the comma separated elements : \")\n",
    "list = string.split(\",\")\n",
    "\n",
    "print(list)"
   ]
  },
  {
   "cell_type": "markdown",
   "metadata": {},
   "source": [
    "### 01) WAP to count Even and Odd numbers in a List."
   ]
  },
  {
   "cell_type": "code",
   "execution_count": 25,
   "metadata": {},
   "outputs": [
    {
     "name": "stdout",
     "output_type": "stream",
     "text": [
      "Enter the Size of List : 6\n",
      "Enter the value : 1\n",
      "Enter the value : 2\n",
      "Enter the value : 3\n",
      "Enter the value : 4\n",
      "Enter the value : 5\n",
      "Enter the value : 6\n",
      "count of odd :  3\n",
      "count of even :  3\n"
     ]
    }
   ],
   "source": [
    "n = int(input(\"Enter the Size of List : \"));\n",
    "list = [int((input(\"Enter the value : \"))) for i in range(0,n)];\n",
    "\n",
    "evenNum = 0;\n",
    "oddNum = 0;\n",
    "\n",
    "for i in list:\n",
    "    if i%2 == 0:\n",
    "        evenNum += 1;\n",
    "    else:\n",
    "        oddNum += 1;\n",
    "        \n",
    "print('count of odd : ',oddNum)\n",
    "print('count of even : ',evenNum)"
   ]
  },
  {
   "cell_type": "markdown",
   "metadata": {},
   "source": [
    "### 02) Python program to find N largest and smallest elements from the list"
   ]
  },
  {
   "cell_type": "code",
   "execution_count": 26,
   "metadata": {},
   "outputs": [
    {
     "name": "stdout",
     "output_type": "stream",
     "text": [
      "Enter the Size of List : 6\n",
      "Enter the value : 1\n",
      "Enter the value : 2\n",
      "Enter the value : 3\n",
      "Enter the value : 4\n",
      "Enter the value : 5\n",
      "Enter the value : 6\n",
      "How many Number you want to find Min & Max in List : 3\n",
      "Smallest Number :  [1, 2, 3]\n",
      "Largest Number :  [4, 5, 6]\n"
     ]
    }
   ],
   "source": [
    "n = int(input(\"Enter the Size of List : \"));\n",
    "list = [int((input(\"Enter the value : \"))) for i in range(0,n)];\n",
    "\n",
    "num = int(input(\"How many Number you want to find Min & Max in List : \")); \n",
    "\n",
    "list.sort();\n",
    "\n",
    "small = list[0:(num)];\n",
    "large = list[(-num) : ];\n",
    "\n",
    "print(\"Smallest Number : \",small)\n",
    "print(\"Largest Number : \",large)"
   ]
  },
  {
   "cell_type": "markdown",
   "metadata": {},
   "source": [
    "### 03) WAP to print duplicates from a list of integers"
   ]
  },
  {
   "cell_type": "code",
   "execution_count": 28,
   "metadata": {},
   "outputs": [
    {
     "name": "stdout",
     "output_type": "stream",
     "text": [
      "Enter the Size of List : 8\n",
      "Enter the value : 56\n",
      "Enter the value : 233\n",
      "Enter the value : 56\n",
      "Enter the value : 211\n",
      "Enter the value : 56\n",
      "Enter the value : 211\n",
      "Enter the value : 56\n",
      "Enter the value : 3\n",
      "Duplicate Elements =  {56, 211}\n"
     ]
    }
   ],
   "source": [
    "n = int(input(\"Enter the Size of List : \"));\n",
    "list = [int((input(\"Enter the value : \"))) for i in range(0,n)];\n",
    "\n",
    "duplicate = [];\n",
    "for i in list:\n",
    "    if list.count(i) > 1:\n",
    "        duplicate.append(i);\n",
    "        \n",
    "print(\"Duplicate Elements = \", set(duplicate));"
   ]
  },
  {
   "cell_type": "code",
   "execution_count": null,
   "metadata": {},
   "outputs": [],
   "source": []
  },
  {
   "cell_type": "code",
   "execution_count": null,
   "metadata": {},
   "outputs": [],
   "source": []
  }
 ],
 "metadata": {
  "kernelspec": {
   "display_name": "Python 3 (ipykernel)",
   "language": "python",
   "name": "python3"
  },
  "language_info": {
   "codemirror_mode": {
    "name": "ipython",
    "version": 3
   },
   "file_extension": ".py",
   "mimetype": "text/x-python",
   "name": "python",
   "nbconvert_exporter": "python",
   "pygments_lexer": "ipython3",
   "version": "3.9.12"
  }
 },
 "nbformat": 4,
 "nbformat_minor": 4
}
