{
 "cells": [
  {
   "cell_type": "markdown",
   "metadata": {},
   "source": [
    "<a href='https://www.darshan.ac.in/'> <img src='https://www.darshan.ac.in/Content/media/DU_Logo.svg' width=\"250\" height=\"300\"/></a>\n",
    "<pre>\n",
    "<center><b><h1>Python Programming - 2101CS405</b></center>\n",
    "<center><b><h1>Lab - 12</b></center>    \n",
    "<pre>"
   ]
  },
  {
   "cell_type": "markdown",
   "metadata": {},
   "source": [
    "# OOP"
   ]
  },
  {
   "cell_type": "markdown",
   "metadata": {},
   "source": [
    "### 01) Write a Program to create a class by name Students, and initialize attributes like name, age, and grade while creating an object."
   ]
  },
  {
   "cell_type": "code",
   "execution_count": 1,
   "metadata": {},
   "outputs": [
    {
     "name": "stdout",
     "output_type": "stream",
     "text": [
      "Name is :  Dipesh Kanzariya\n",
      "Age is :  19\n",
      "Grade is :  AA\n"
     ]
    }
   ],
   "source": [
    "class Students :\n",
    "    def __init__(self,name,age,grade) :\n",
    "        self.name = name\n",
    "        self.age = age\n",
    "        self.grade = grade\n",
    "        \n",
    "    def printIt(self) :\n",
    "        print('Name is : ',self.name)\n",
    "        print('Age is : ',self.age)\n",
    "        print('Grade is : ',self.grade)\n",
    "        \n",
    "s1 = Students(\"Dipesh Kanzariya\",19,'AA')\n",
    "s1.printIt()"
   ]
  },
  {
   "cell_type": "markdown",
   "metadata": {},
   "source": [
    "### 02) Create a class named Bank_Account with Account_No, User_Name, Email,Account_Type and Account_Balance data members. Also create a method GetAccountDetails() and DisplayAccountDetails(). Create main method to demonstrate the Bank_Account class."
   ]
  },
  {
   "cell_type": "code",
   "execution_count": 3,
   "metadata": {},
   "outputs": [
    {
     "name": "stdout",
     "output_type": "stream",
     "text": [
      "\n",
      " --- Account Details ---\n",
      "236\n",
      "Dipesh Kanzqariya\n",
      "dipesh236@bank.com\n",
      "Saving\n",
      "120000.0\n"
     ]
    }
   ],
   "source": [
    "class Bank_Account:\n",
    "       \n",
    "    def getAccountDetails (self,account_no,user_name,email,account_type,account_balance):\n",
    "        self.account_no = account_no\n",
    "        self.user_name = user_name\n",
    "        self.email = email\n",
    "        self.account_type = account_type\n",
    "        self.account_balance = account_balance\n",
    "        \n",
    "    def displayAccountDetails (self):\n",
    "        print(\"\\n --- Account Details ---\")\n",
    "        print(self.account_no)\n",
    "        print(self.user_name)\n",
    "        print(self.email)\n",
    "        print(self.account_type)\n",
    "        print(self.account_balance)\n",
    "        \n",
    "bank = Bank_Account()\n",
    "bank.getAccountDetails(236,'Dipesh Kanzqariya','dipesh236@bank.com','Saving',120000.00)\n",
    "bank.displayAccountDetails()"
   ]
  },
  {
   "cell_type": "markdown",
   "metadata": {},
   "source": [
    "### 03) WAP to create Circle class with area and perimeter function to find area and perimeter of circle."
   ]
  },
  {
   "cell_type": "code",
   "execution_count": 7,
   "metadata": {},
   "outputs": [
    {
     "name": "stdout",
     "output_type": "stream",
     "text": [
      "Enter Redius : 10\n",
      "Area of Circle :  314.0\n",
      "Perimeter of Circle :  62.800000000000004\n"
     ]
    }
   ],
   "source": [
    "class Circle :\n",
    "    def __init__(self,r) :\n",
    "        self.r = r\n",
    "        \n",
    "    def Circle_Area(self) :\n",
    "        print('Area of Circle : ',3.14*self.r**2)\n",
    "        \n",
    "    def Circle_Perimeter(self) :\n",
    "        print('Perimeter of Circle : ',3.14*2*self.r)\n",
    "        \n",
    "r = int(input(\"Enter Redius : \"))        \n",
    "c = Circle(r)\n",
    "c.Circle_Area()\n",
    "c.Circle_Perimeter()"
   ]
  },
  {
   "cell_type": "markdown",
   "metadata": {},
   "source": [
    "### 04) Create a class for employees that includes attributes such as name, age, salary, and methods to update and display employee information."
   ]
  },
  {
   "cell_type": "code",
   "execution_count": 10,
   "metadata": {},
   "outputs": [
    {
     "name": "stdout",
     "output_type": "stream",
     "text": [
      "1 : Update Name \n",
      " 2 : Update Age \n",
      " 3 : Update Salary \n",
      " 4 : Exit\n",
      "Enter choice : 1\n",
      "Enter Name which you want to update : Dipesh\n",
      "1 : Update Name \n",
      " 2 : Update Age \n",
      " 3 : Update Salary \n",
      " 4 : Exit\n",
      "Enter choice : 2\n",
      "Enter Age which you want to update : 19\n",
      "1 : Update Name \n",
      " 2 : Update Age \n",
      " 3 : Update Salary \n",
      " 4 : Exit\n",
      "Enter choice : 3\n",
      "Enter Salary which you want to update : 300000\n",
      "1 : Update Name \n",
      " 2 : Update Age \n",
      " 3 : Update Salary \n",
      " 4 : Exit\n",
      "Enter choice : 4\n",
      "Name :  Dipesh\n",
      "Age :  19\n",
      "Salary :  300000\n"
     ]
    }
   ],
   "source": [
    "class Employee :\n",
    "    def __init__(self,name,age,salary) :\n",
    "        self.name = name\n",
    "        self.age = age\n",
    "        self.salary = salary\n",
    "        \n",
    "    def SetName(self,name) :\n",
    "        self.name = name\n",
    "        \n",
    "    def SetAge(self,age) :\n",
    "        self.age = age\n",
    "        \n",
    "    def SetSalary(self,salary) :\n",
    "        self.salary = salary\n",
    "        \n",
    "    def Display(self) :\n",
    "        print('Name : ',self.name)\n",
    "        print('Age : ',self.age)\n",
    "        print('Salary : ',self.salary)\n",
    "        \n",
    "e = Employee('Dipes',18,250000)\n",
    "\n",
    "while(True) :\n",
    "    print('1 : Update Name \\n 2 : Update Age \\n 3 : Update Salary \\n 4 : Exit')\n",
    "    ch = int(input('Enter choice : '))\n",
    "    \n",
    "    if ch == 1 :\n",
    "        new_name = input(\"Enter Name which you want to update : \")\n",
    "        e.SetName(new_name)\n",
    "        \n",
    "    elif ch == 2 :\n",
    "        new_age = input(\"Enter Age which you want to update : \")\n",
    "        e.SetAge(new_age)\n",
    "        \n",
    "    elif ch == 3 :\n",
    "        new_salary = input(\"Enter Salary which you want to update : \")\n",
    "        e.SetSalary(new_salary)\n",
    "        \n",
    "    else :\n",
    "        break\n",
    "        \n",
    "e.Display()"
   ]
  },
  {
   "cell_type": "markdown",
   "metadata": {},
   "source": [
    "### 05) Create a bank account class with methods to deposit, withdraw, and check balance."
   ]
  },
  {
   "cell_type": "code",
   "execution_count": 11,
   "metadata": {},
   "outputs": [
    {
     "name": "stdout",
     "output_type": "stream",
     "text": [
      "Enter amount which you want to deposit : 5000\n",
      "Enter amount which you want to withdraw : 3000\n",
      "Balance is  12000.0\n"
     ]
    }
   ],
   "source": [
    "class Bank_Account :\n",
    "    def __init__(self,balance) :\n",
    "        self.balance = balance\n",
    "        \n",
    "    def Deposit_Amount(self) :\n",
    "        dep_amount = float(input(\"Enter amount which you want to deposit : \"))\n",
    "        self.balance += dep_amount\n",
    "        \n",
    "    def Withdraw_Amount(self) :\n",
    "        with_amount = float(input(\"Enter amount which you want to withdraw : \"))\n",
    "        self.balance -= with_amount\n",
    "        \n",
    "    def Display(self) :\n",
    "        print('Balance is ',self.balance)\n",
    "        \n",
    "bank = Bank_Account(10000)\n",
    "bank.Deposit_Amount()\n",
    "bank.Withdraw_Amount()\n",
    "bank.Display()"
   ]
  },
  {
   "cell_type": "markdown",
   "metadata": {},
   "source": [
    "### 06) Create a class for managing inventory that includes attributes such as item name, price, quantity, and methods to add, remove, and update items."
   ]
  },
  {
   "cell_type": "code",
   "execution_count": 6,
   "metadata": {},
   "outputs": [
    {
     "name": "stdout",
     "output_type": "stream",
     "text": [
      "Enter Name : mobile\n",
      "Enter price : 1500000\n",
      "Enter quantity : 50\n",
      "Enter Name : pc\n",
      "Enter price : 500000\n",
      "Enter quantity : 20\n",
      "Enter Name : mouse\n",
      "Enter price : 20000\n",
      "Enter quantity : 5\n",
      "name is : mobile\n",
      "price is : 1500000\n",
      "quantity is : 50\n",
      "------------------------------------------\n",
      "name is : pc\n",
      "price is : 500000\n",
      "quantity is : 20\n",
      "------------------------------------------\n",
      "name is : mouse\n",
      "price is : 20000\n",
      "quantity is : 5\n",
      "------------------------------------------\n"
     ]
    }
   ],
   "source": [
    "class Item:\n",
    "    def __init__(self):\n",
    "        self.name= input(\"Enter Name : \")\n",
    "        self.price=input(\"Enter price : \")\n",
    "        self.quantity=input(\"Enter quantity : \")\n",
    "       \n",
    "    def display(self):\n",
    "        print(\"name is :\",self.name)\n",
    "        print(\"price is :\",self.price)\n",
    "        print(\"quantity is :\",self.quantity)\n",
    "       \n",
    "class Inventory:\n",
    "   \n",
    "    def __init__(self):\n",
    "        self.L = []\n",
    "   \n",
    "    def addItem(self):\n",
    "        i = Item()\n",
    "        self.L.append(i)\n",
    "   \n",
    "    def displayItem(self):\n",
    "        for i in self.L:\n",
    "            i.display()\n",
    "            print(\"------------------------------------------\")\n",
    "           \n",
    "I = Inventory()\n",
    "I.addItem()\n",
    "I.addItem()\n",
    "I.addItem()\n",
    "I.displayItem()"
   ]
  },
  {
   "cell_type": "markdown",
   "metadata": {},
   "source": [
    "### 09) Create a Class with class attributes"
   ]
  },
  {
   "cell_type": "code",
   "execution_count": 19,
   "metadata": {},
   "outputs": [
    {
     "name": "stdout",
     "output_type": "stream",
     "text": [
      "1\n",
      "2\n",
      "2\n"
     ]
    }
   ],
   "source": [
    "class sampleClass :\n",
    "    count = 0\n",
    "    \n",
    "    def increase(self) :\n",
    "        sampleClass.count += 1\n",
    "        \n",
    "s1 = sampleClass()\n",
    "s1.increase()\n",
    "print(s1.count)\n",
    "\n",
    "s2 = sampleClass()\n",
    "s2.increase()\n",
    "print(s2.count)\n",
    "\n",
    "print(sampleClass.count)"
   ]
  },
  {
   "cell_type": "markdown",
   "metadata": {},
   "source": [
    "### 07)\n",
    "Create one class student_kit <br>\n",
    "Within the student_kit class create one class attribute principal name ( Mr ABC ) <br>\n",
    "Create one attendance method and take input as number of days. <br>\n",
    "While creating student take input their name . <br>\n",
    "Create one certificate for each student by taking input of number of days present in class. <br>"
   ]
  },
  {
   "cell_type": "code",
   "execution_count": 13,
   "metadata": {},
   "outputs": [
    {
     "name": "stdout",
     "output_type": "stream",
     "text": [
      "Student Name :  Abhi\n",
      "Attandance :  365\n",
      "------||------\n",
      "sign. of principal\n",
      "Mr. abc\n"
     ]
    }
   ],
   "source": [
    "class Student :\n",
    "    pname = \"Mr. abc\"\n",
    "    \n",
    "    def __init__(self,sname) :\n",
    "        self.sname = sname\n",
    "        \n",
    "    def fillAttandance(self,numberOfDays) :\n",
    "        self.numberOfDays = numberOfDays\n",
    "        \n",
    "    def diplayCertificate(self) :\n",
    "        print('Student Name : ',self.sname)\n",
    "        print('Attandance : ',self.numberOfDays)\n",
    "        print('------||------')\n",
    "        print('sign. of principal')\n",
    "        print(self.pname)\n",
    "        \n",
    "s = Student('Abhi')\n",
    "s.fillAttandance(365)\n",
    "s.diplayCertificate()"
   ]
  },
  {
   "cell_type": "markdown",
   "metadata": {},
   "source": [
    "### 08) Define Time class with hour and minute as data member. Also define addition method to add two time objects."
   ]
  },
  {
   "cell_type": "code",
   "execution_count": 18,
   "metadata": {},
   "outputs": [
    {
     "name": "stdout",
     "output_type": "stream",
     "text": [
      "TIme :  2  :  23\n",
      "TIme :  5  :  15\n",
      "TIme :  7  :  38\n"
     ]
    }
   ],
   "source": [
    "class Time :\n",
    "    def __init__(self,hour,minute) :\n",
    "        self.hour = hour\n",
    "        self.minute = minute\n",
    "        \n",
    "    def Addition(self,t1, t2) :\n",
    "        self.hour = t1.hour + t2.hour\n",
    "        self.minute = t1.minute + t2.minute\n",
    "        \n",
    "    def displayTime(self) :\n",
    "        print('TIme : ',self.hour,' : ',self.minute)\n",
    "        \n",
    "t1 = Time(2,23)\n",
    "t2 = Time(5,15)\n",
    "t3 = Time(0,0)\n",
    "t3.Addition(t1,t2)\n",
    "t1.displayTime()\n",
    "t2.displayTime()\n",
    "t3.displayTime()"
   ]
  },
  {
   "cell_type": "markdown",
   "metadata": {},
   "source": [
    "### 09) WAP to demonstrate inheritance in python."
   ]
  },
  {
   "cell_type": "code",
   "execution_count": 20,
   "metadata": {},
   "outputs": [
    {
     "name": "stdout",
     "output_type": "stream",
     "text": [
      "First class\n",
      "child class\n"
     ]
    }
   ],
   "source": [
    "class A :\n",
    "    def first(self) :\n",
    "        print('First class')\n",
    "        \n",
    "class B(A) :\n",
    "    def second(self) :\n",
    "        print('child class')\n",
    "        \n",
    "a = B()\n",
    "a.first()\n",
    "a.second()"
   ]
  },
  {
   "cell_type": "markdown",
   "metadata": {},
   "source": [
    "### 10) Create a child class Bus that will inherit all of the variables and methods of the Vehicle class\n",
    "class Vehicle:\n",
    "\n",
    "    def __init__(self, name, max_speed, mileage):\n",
    "        self.name = name\n",
    "        self.max_speed = max_speed\n",
    "        self.mileage = mileage\n",
    "        \n",
    "Create a Bus object that will inherit all of the variables and methods of the parent Vehicle class and display it.        "
   ]
  },
  {
   "cell_type": "code",
   "execution_count": 24,
   "metadata": {},
   "outputs": [
    {
     "ename": "NameError",
     "evalue": "name 'self' is not defined",
     "output_type": "error",
     "traceback": [
      "\u001b[0;31m---------------------------------------------------------------------------\u001b[0m",
      "\u001b[0;31mNameError\u001b[0m                                 Traceback (most recent call last)",
      "\u001b[0;32m/tmp/ipykernel_2732/2054988720.py\u001b[0m in \u001b[0;36m<module>\u001b[0;34m\u001b[0m\n\u001b[1;32m      5\u001b[0m         \u001b[0mself\u001b[0m\u001b[0;34m.\u001b[0m\u001b[0mmileage\u001b[0m \u001b[0;34m=\u001b[0m \u001b[0mmileage\u001b[0m\u001b[0;34m\u001b[0m\u001b[0;34m\u001b[0m\u001b[0m\n\u001b[1;32m      6\u001b[0m \u001b[0;34m\u001b[0m\u001b[0m\n\u001b[0;32m----> 7\u001b[0;31m \u001b[0;32mclass\u001b[0m \u001b[0mBus\u001b[0m\u001b[0;34m(\u001b[0m\u001b[0mVehicle\u001b[0m\u001b[0;34m)\u001b[0m \u001b[0;34m:\u001b[0m\u001b[0;34m\u001b[0m\u001b[0;34m\u001b[0m\u001b[0m\n\u001b[0m\u001b[1;32m      8\u001b[0m     \u001b[0;32mdef\u001b[0m \u001b[0m__init__\u001b[0m\u001b[0;34m(\u001b[0m\u001b[0mself\u001b[0m\u001b[0;34m,\u001b[0m \u001b[0mname\u001b[0m\u001b[0;34m,\u001b[0m \u001b[0mmax_speed\u001b[0m\u001b[0;34m,\u001b[0m \u001b[0mmileage\u001b[0m\u001b[0;34m,\u001b[0m \u001b[0mbname\u001b[0m\u001b[0;34m)\u001b[0m \u001b[0;34m:\u001b[0m\u001b[0;34m\u001b[0m\u001b[0;34m\u001b[0m\u001b[0m\n\u001b[1;32m      9\u001b[0m         \u001b[0mself\u001b[0m\u001b[0;34m.\u001b[0m\u001b[0mbname\u001b[0m \u001b[0;34m=\u001b[0m \u001b[0mbname\u001b[0m\u001b[0;34m\u001b[0m\u001b[0;34m\u001b[0m\u001b[0m\n",
      "\u001b[0;32m/tmp/ipykernel_2732/2054988720.py\u001b[0m in \u001b[0;36mBus\u001b[0;34m()\u001b[0m\n\u001b[1;32m      9\u001b[0m         \u001b[0mself\u001b[0m\u001b[0;34m.\u001b[0m\u001b[0mbname\u001b[0m \u001b[0;34m=\u001b[0m \u001b[0mbname\u001b[0m\u001b[0;34m\u001b[0m\u001b[0;34m\u001b[0m\u001b[0m\n\u001b[1;32m     10\u001b[0m \u001b[0;34m\u001b[0m\u001b[0m\n\u001b[0;32m---> 11\u001b[0;31m     \u001b[0mVehicle\u001b[0m\u001b[0;34m.\u001b[0m\u001b[0m__init__\u001b[0m\u001b[0;34m(\u001b[0m\u001b[0mself\u001b[0m\u001b[0;34m,\u001b[0m \u001b[0mname\u001b[0m\u001b[0;34m,\u001b[0m \u001b[0mmax_speed\u001b[0m\u001b[0;34m,\u001b[0m \u001b[0mmileage\u001b[0m\u001b[0;34m)\u001b[0m\u001b[0;34m\u001b[0m\u001b[0;34m\u001b[0m\u001b[0m\n\u001b[0m\u001b[1;32m     12\u001b[0m \u001b[0;34m\u001b[0m\u001b[0m\n\u001b[1;32m     13\u001b[0m     \u001b[0;32mdef\u001b[0m \u001b[0mdisplayBusDetails\u001b[0m\u001b[0;34m(\u001b[0m\u001b[0mself\u001b[0m\u001b[0;34m)\u001b[0m \u001b[0;34m:\u001b[0m\u001b[0;34m\u001b[0m\u001b[0;34m\u001b[0m\u001b[0m\n",
      "\u001b[0;31mNameError\u001b[0m: name 'self' is not defined"
     ]
    }
   ],
   "source": [
    "class Vehicle :\n",
    "    def __init__(self, name, max_speed, mileage):\n",
    "        self.name = name\n",
    "        self.max_speed = max_speed\n",
    "        self.mileage = mileage\n",
    "    \n",
    "class Bus(Vehicle) :\n",
    "    def __init__(self, name, max_speed, mileage, bname) :\n",
    "        self.bname = bname\n",
    "        \n",
    "    Vehicle.__init__(self, name, max_speed, mileage)\n",
    "        \n",
    "    def displayBusDetails(self) :\n",
    "        print('Vehicle : ',self.name)\n",
    "        print('Bus Name : ',self.bname)\n",
    "        print('Speed : ',self.max_speed)\n",
    "        print('Mileage : ',self.mileage)\n",
    "        \n",
    "B = Bus('Bus', 'Eicher Startline Pro', 80, 7)\n",
    "B.displayBusDetails()"
   ]
  },
  {
   "cell_type": "markdown",
   "metadata": {},
   "source": [
    "### 11)  Create a class hierarchy for different types of animals, with a parent Animal class and child classes for specific animals like Cat, Dog, and Bird."
   ]
  },
  {
   "cell_type": "code",
   "execution_count": null,
   "metadata": {},
   "outputs": [],
   "source": []
  },
  {
   "cell_type": "markdown",
   "metadata": {},
   "source": [
    "### 12) Create a class hierarchy for different types of vehicles, with a parent Vehicle class and child classes for specific vehicles like Car, Truck, and Motorcycle."
   ]
  },
  {
   "cell_type": "code",
   "execution_count": null,
   "metadata": {},
   "outputs": [],
   "source": []
  },
  {
   "cell_type": "markdown",
   "metadata": {},
   "source": [
    "### 13)  Create a class hierarchy for different types of bank accounts, with a parent Account class and child classes for specific account types like Checking, Savings, and Credit."
   ]
  },
  {
   "cell_type": "code",
   "execution_count": null,
   "metadata": {},
   "outputs": [],
   "source": []
  },
  {
   "cell_type": "markdown",
   "metadata": {},
   "source": [
    "### 14) Create a Shape class with a draw method that is not implemented. Create three child classes Rectangle, Circle, and Triangle that implement the draw method with their respective drawing behaviors. Create a list of Shape objects that includes one instance of each child class, and then iterate through the list and call the draw method on each object."
   ]
  },
  {
   "cell_type": "code",
   "execution_count": null,
   "metadata": {},
   "outputs": [],
   "source": []
  },
  {
   "cell_type": "markdown",
   "metadata": {},
   "source": [
    "### 15) Create a Person class with a constructor that takes two arguments name and age. Create a child class Employee that inherits from Person and adds a new attribute salary. Override the __init__ method in Employee to call the parent class's __init__ method using the super keyword, and then initialize the salary attribute."
   ]
  },
  {
   "cell_type": "code",
   "execution_count": null,
   "metadata": {},
   "outputs": [],
   "source": []
  }
 ],
 "metadata": {
  "kernelspec": {
   "display_name": "Python 3 (ipykernel)",
   "language": "python",
   "name": "python3"
  },
  "language_info": {
   "codemirror_mode": {
    "name": "ipython",
    "version": 3
   },
   "file_extension": ".py",
   "mimetype": "text/x-python",
   "name": "python",
   "nbconvert_exporter": "python",
   "pygments_lexer": "ipython3",
   "version": "3.9.13"
  }
 },
 "nbformat": 4,
 "nbformat_minor": 4
}
