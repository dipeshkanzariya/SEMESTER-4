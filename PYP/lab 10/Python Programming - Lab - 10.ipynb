{
 "cells": [
  {
   "cell_type": "markdown",
   "metadata": {},
   "source": [
    "<a href='https://www.darshan.ac.in/'> <img src='https://www.darshan.ac.in/Content/media/DU_Logo.svg' width=\"250\" height=\"300\"/></a>\n",
    "<pre>\n",
    "<center><b><h1>Python Programming - 2101CS405</b></center>\n",
    "<center><b><h1>Lab - 10</b></center>    \n",
    "<pre>"
   ]
  },
  {
   "cell_type": "markdown",
   "metadata": {},
   "source": [
    "# Modules"
   ]
  },
  {
   "cell_type": "markdown",
   "metadata": {},
   "source": [
    "# A"
   ]
  },
  {
   "cell_type": "markdown",
   "metadata": {},
   "source": [
    "### 01) WAP to create Calculator module which defines functions like add, sub,mul and div. create another file that uses the Calculator module."
   ]
  },
  {
   "cell_type": "code",
   "execution_count": 2,
   "metadata": {},
   "outputs": [
    {
     "name": "stdout",
     "output_type": "stream",
     "text": [
      "11\n",
      "10\n",
      "15\n",
      "3.3333333333333335\n"
     ]
    }
   ],
   "source": [
    "# import calci\n",
    "\n",
    "# print(calci.add(5,6))\n",
    "# print(calci.sub(20,10))\n",
    "# print(calci.multi(5,3))\n",
    "# print(calci.div(10,3))\n",
    "\n",
    "from calci import add\n",
    "from calci import sub\n",
    "from calci import multi\n",
    "from calci import div\n",
    "\n",
    "print(add(5,6))\n",
    "print(sub(20,10))\n",
    "print(multi(5,3))\n",
    "print(div(10,3))"
   ]
  },
  {
   "cell_type": "markdown",
   "metadata": {},
   "source": [
    "### 02) WAP to Pick a random character from a given String."
   ]
  },
  {
   "cell_type": "code",
   "execution_count": 20,
   "metadata": {},
   "outputs": [
    {
     "name": "stdout",
     "output_type": "stream",
     "text": [
      "Enter a string : dipesh\n",
      "h\n"
     ]
    }
   ],
   "source": [
    "import random\n",
    "\n",
    "str = input(\"Enter a string : \")\n",
    "l = list(str)\n",
    "print(random.choice(l))"
   ]
  },
  {
   "cell_type": "markdown",
   "metadata": {},
   "source": [
    "### 03) WAP to Pick a random element from a given list."
   ]
  },
  {
   "cell_type": "code",
   "execution_count": 22,
   "metadata": {},
   "outputs": [
    {
     "name": "stdout",
     "output_type": "stream",
     "text": [
      "Enter n : 5\n",
      "Enter element : 10\n",
      "Enter element : 23\n",
      "Enter element : 25\n",
      "Enter element : 46\n",
      "Enter element : 20\n",
      "25\n"
     ]
    }
   ],
   "source": [
    "n = int(input(\"Enter n : \"))\n",
    "list = []\n",
    "for i in range(1,n+1):\n",
    "    a = int(input(\"Enter element : \"))\n",
    "    list.append(a)\n",
    "print(random.choice(list))"
   ]
  },
  {
   "cell_type": "markdown",
   "metadata": {},
   "source": [
    "### 04) WAP to demonstrate the use of the math module."
   ]
  },
  {
   "cell_type": "code",
   "execution_count": 27,
   "metadata": {},
   "outputs": [
    {
     "name": "stdout",
     "output_type": "stream",
     "text": [
      "Enter x : 8\n",
      "Enter y : 3\n",
      "512.0\n",
      "2.8284271247461903\n",
      "5\n",
      "7\n",
      "1\n",
      "24\n",
      "40320\n",
      "0.1411200080598672\n",
      "-0.14550003380861354\n",
      "-0.1425465430742778\n"
     ]
    }
   ],
   "source": [
    "import math \n",
    "x = int(input(\"Enter x : \"))\n",
    "y = int(input(\"Enter y : \"))\n",
    "print(math.pow(x,y))\n",
    "print(math.sqrt(x))\n",
    "print(math.floor(5.6))\n",
    "print(math.ceil(6.3))\n",
    "print(math.gcd(x,y))\n",
    "print(math.lcm(x,y))\n",
    "print(math.factorial(x))\n",
    "print(math.sin(y))\n",
    "print(math.cos(x))\n",
    "print(math.tan(y))\n"
   ]
  },
  {
   "cell_type": "markdown",
   "metadata": {},
   "source": [
    "### 05) WAP to demonstrate the use of date time module."
   ]
  },
  {
   "cell_type": "code",
   "execution_count": 44,
   "metadata": {},
   "outputs": [
    {
     "name": "stdout",
     "output_type": "stream",
     "text": [
      "2023-02-17\n",
      "2010-02-03\n",
      "2023\n",
      "2\n",
      "17\n",
      "2023-02-17 10:46:40.048236\n",
      "10\n",
      "46\n",
      "40\n",
      "10:05:02.000006\n"
     ]
    }
   ],
   "source": [
    "import datetime\n",
    "print(datetime.date.today())\n",
    "print(datetime.date(2010,2,3))\n",
    "print(datetime.date.today().year)\n",
    "print(datetime.date.today().month)\n",
    "print(datetime.date.today().day)\n",
    "print(datetime.datetime.now())\n",
    "print(datetime.datetime.now().hour)\n",
    "print(datetime.datetime.now().minute)\n",
    "print(datetime.datetime.now().second)\n",
    "print(datetime.time(10,5,2,6))"
   ]
  },
  {
   "cell_type": "markdown",
   "metadata": {},
   "source": [
    "# B"
   ]
  },
  {
   "cell_type": "markdown",
   "metadata": {},
   "source": [
    "### 01) WAP to Roll dice in such a way that every time you get the same number."
   ]
  },
  {
   "cell_type": "code",
   "execution_count": 51,
   "metadata": {},
   "outputs": [
    {
     "name": "stdout",
     "output_type": "stream",
     "text": [
      "Enter number which you want on dice : 4\n"
     ]
    },
    {
     "data": {
      "text/plain": [
       "2"
      ]
     },
     "execution_count": 51,
     "metadata": {},
     "output_type": "execute_result"
    }
   ],
   "source": [
    "list = [1,2,3,4,5,6]\n",
    "n = int(input(\"Enter number which you want on dice : \"))\n",
    "random.seed(n)\n",
    "random.choice(list)"
   ]
  },
  {
   "cell_type": "markdown",
   "metadata": {},
   "source": [
    "### 02) WAP to generate 3 random integers between 100 and 999 which is divisible by 5."
   ]
  },
  {
   "cell_type": "code",
   "execution_count": 55,
   "metadata": {},
   "outputs": [
    {
     "name": "stdout",
     "output_type": "stream",
     "text": [
      "800\n",
      "470\n",
      "175\n"
     ]
    }
   ],
   "source": [
    "for i in range(3) :\n",
    "    print(random.randrange(100,1000,5))"
   ]
  },
  {
   "cell_type": "markdown",
   "metadata": {},
   "source": [
    "### 03) WAP to generate 100 random lottery tickets and pick two lucky tickets from it as a winner."
   ]
  },
  {
   "cell_type": "code",
   "execution_count": 59,
   "metadata": {},
   "outputs": [
    {
     "name": "stdout",
     "output_type": "stream",
     "text": [
      "[52, 80]\n"
     ]
    }
   ],
   "source": [
    "list = []\n",
    "\n",
    "for i in range(1,101) :\n",
    "    n = random.randint(1,100)\n",
    "    list.append(n)\n",
    "    \n",
    "print(random.sample(list,2))"
   ]
  },
  {
   "cell_type": "markdown",
   "metadata": {},
   "source": [
    "### 04) WAP to print current date and time in Python."
   ]
  },
  {
   "cell_type": "code",
   "execution_count": 60,
   "metadata": {},
   "outputs": [
    {
     "name": "stdout",
     "output_type": "stream",
     "text": [
      "2023-02-17 11:07:44.733143\n"
     ]
    }
   ],
   "source": [
    "print(datetime.datetime.now())"
   ]
  },
  {
   "cell_type": "markdown",
   "metadata": {},
   "source": [
    "### 05) Subtract a week (7 days) from a given date in Python."
   ]
  },
  {
   "cell_type": "code",
   "execution_count": 63,
   "metadata": {},
   "outputs": [
    {
     "name": "stdout",
     "output_type": "stream",
     "text": [
      "2023-02-10 11:10:38.907906\n"
     ]
    }
   ],
   "source": [
    "d1 = datetime.datetime.now()\n",
    "d2 = d1 + datetime.timedelta(weeks = -1)\n",
    "print(d2)"
   ]
  },
  {
   "cell_type": "markdown",
   "metadata": {},
   "source": [
    "### 06) WAP to Calculate number of days between two given dates."
   ]
  },
  {
   "cell_type": "code",
   "execution_count": 64,
   "metadata": {},
   "outputs": [
    {
     "name": "stdout",
     "output_type": "stream",
     "text": [
      "Enter first date : 25\n",
      "Enter second date : 3\n",
      "Diff :  22.0\n"
     ]
    }
   ],
   "source": [
    "dt1 = int(input(\"Enter first date : \"))\n",
    "dt2 = int(input(\"Enter second date : \"))\n",
    "print(\"Diff : \",math.fabs(dt1 - dt2))"
   ]
  },
  {
   "cell_type": "markdown",
   "metadata": {},
   "source": [
    "### 07) WAP to Find the day of the week of a given date."
   ]
  },
  {
   "cell_type": "code",
   "execution_count": 67,
   "metadata": {},
   "outputs": [
    {
     "name": "stdout",
     "output_type": "stream",
     "text": [
      "Saturday\n"
     ]
    }
   ],
   "source": [
    "date = datetime.date(2004,4,17)\n",
    "print(date.strftime('%A'))"
   ]
  },
  {
   "cell_type": "code",
   "execution_count": null,
   "metadata": {},
   "outputs": [],
   "source": []
  }
 ],
 "metadata": {
  "kernelspec": {
   "display_name": "Python 3",
   "language": "python",
   "name": "python3"
  },
  "language_info": {
   "codemirror_mode": {
    "name": "ipython",
    "version": 3
   },
   "file_extension": ".py",
   "mimetype": "text/x-python",
   "name": "python",
   "nbconvert_exporter": "python",
   "pygments_lexer": "ipython3",
   "version": "3.11.1"
  },
  "vscode": {
   "interpreter": {
    "hash": "65b84045f98086a0d8e94b689679b2d7f3fb11c1f16ebe25d13b9423f88d48c8"
   }
  }
 },
 "nbformat": 4,
 "nbformat_minor": 4
}
