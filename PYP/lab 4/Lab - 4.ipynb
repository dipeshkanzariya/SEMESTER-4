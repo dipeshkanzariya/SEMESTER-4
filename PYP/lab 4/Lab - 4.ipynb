{
 "cells": [
  {
   "cell_type": "markdown",
   "metadata": {},
   "source": [
    "\n",
    "<a href='https://www.darshan.ac.in/'> <img src='https://www.darshan.ac.in/Content/media/DU_Logo.svg' width=\"250\" height=\"300\"/></a>\n",
    "<pre>\n",
    "<center><b><h1>Python Programming - 2101CS405</b></center>\n",
    "<center><b><h1>Lab - 4</b></center>    \n",
    "<pre>"
   ]
  },
  {
   "cell_type": "markdown",
   "metadata": {},
   "source": [
    "# String"
   ]
  },
  {
   "cell_type": "markdown",
   "metadata": {},
   "source": [
    "### 01) WAP to check given string is palindrome or not."
   ]
  },
  {
   "cell_type": "code",
   "execution_count": 2,
   "metadata": {},
   "outputs": [
    {
     "name": "stdout",
     "output_type": "stream",
     "text": [
      "String is not palindrome\n"
     ]
    }
   ],
   "source": [
    "s=input(\"Enter String :\")\n",
    "pali_s = s[::-1]\n",
    "\n",
    "if pali_s==s:\n",
    "    print(\"String is palindrome\")\n",
    "else:\n",
    "    print(\"String is not palindrome\")"
   ]
  },
  {
   "cell_type": "markdown",
   "metadata": {},
   "source": [
    "### 02) WAP to reverse the words in given string."
   ]
  },
  {
   "cell_type": "code",
   "execution_count": 7,
   "metadata": {},
   "outputs": [
    {
     "name": "stdout",
     "output_type": "stream",
     "text": [
      "Kanzariya Dipesh\n"
     ]
    }
   ],
   "source": [
    "string = input('Enter string : ')\n",
    "s = string.split()[::-1]\n",
    "\n",
    "l = []\n",
    "for i in s:\n",
    "    l.append(i)\n",
    "    \n",
    "print(\" \".join(l))"
   ]
  },
  {
   "cell_type": "markdown",
   "metadata": {},
   "source": [
    "### 03) WAP to remove ith character from given string"
   ]
  },
  {
   "cell_type": "code",
   "execution_count": 12,
   "metadata": {},
   "outputs": [
    {
     "name": "stdout",
     "output_type": "stream",
     "text": [
      "diesh\n"
     ]
    }
   ],
   "source": [
    "str=input(\"Enter String : \")\n",
    "ch=int(input(\"Enter a character which you want to remove : \"))\n",
    "\n",
    "s1=str[:ch-1:]\n",
    "s2=str[ch::]\n",
    "\n",
    "print(s1+s2)"
   ]
  },
  {
   "cell_type": "markdown",
   "metadata": {},
   "source": [
    "### 04) WAP to find length of String without using len function."
   ]
  },
  {
   "cell_type": "code",
   "execution_count": 13,
   "metadata": {},
   "outputs": [
    {
     "name": "stdout",
     "output_type": "stream",
     "text": [
      "6\n"
     ]
    }
   ],
   "source": [
    "s=input(\"Enter String : \")\n",
    "len=0\n",
    "\n",
    "for i in s:\n",
    "    len+= 1\n",
    "print(len)"
   ]
  },
  {
   "cell_type": "markdown",
   "metadata": {},
   "source": [
    "### 05) WAP to print even length word in string."
   ]
  },
  {
   "cell_type": "code",
   "execution_count": 5,
   "metadata": {},
   "outputs": [
    {
     "name": "stdout",
     "output_type": "stream",
     "text": [
      "dipesh\n"
     ]
    }
   ],
   "source": [
    "str=input(\"Enter String : \")\n",
    "s=str.split(\" \")\n",
    "\n",
    "for i in s:\n",
    "    if len(i)%2==0:\n",
    "        print(i)"
   ]
  },
  {
   "cell_type": "markdown",
   "metadata": {},
   "source": [
    "### 06) WAP to count numbers of vowels in given string."
   ]
  },
  {
   "cell_type": "code",
   "execution_count": 3,
   "metadata": {},
   "outputs": [
    {
     "name": "stdout",
     "output_type": "stream",
     "text": [
      "6 vowels in the string\n"
     ]
    }
   ],
   "source": [
    "s=input(\"Enter String\")\n",
    "count=0\n",
    "lower=s.lower()\n",
    "\n",
    "for i in lower:\n",
    "    if(i=='a' or i=='e' or i=='i' or i=='o' or i=='u'):\n",
    "        count=count+1\n",
    "        \n",
    "print(count,'vowels in the string')"
   ]
  },
  {
   "cell_type": "markdown",
   "metadata": {},
   "source": [
    "### 07) WAP to convert given array to string."
   ]
  },
  {
   "cell_type": "code",
   "execution_count": 1,
   "metadata": {},
   "outputs": [
    {
     "name": "stdout",
     "output_type": "stream",
     "text": [
      "d i p e s h\n"
     ]
    }
   ],
   "source": [
    "arr=[\"d\",\"i\",\"p\",\"e\",\"s\",\"h\"]\n",
    "arr_s=\" \".join(arr)\n",
    "\n",
    "print(arr_s)"
   ]
  },
  {
   "cell_type": "markdown",
   "metadata": {},
   "source": [
    "### 01) WAP to find out duplicate characters in given string."
   ]
  },
  {
   "cell_type": "code",
   "execution_count": 14,
   "metadata": {},
   "outputs": [
    {
     "name": "stdout",
     "output_type": "stream",
     "text": [
      "{'i', 'a'}\n"
     ]
    }
   ],
   "source": [
    "list = []\n",
    "str1 = input(\"Enter a string : \")\n",
    "for i in str1 :\n",
    "    if str1.count(i) > 1 :\n",
    "        list.append(i)\n",
    "\n",
    "element = set(list)\n",
    "print(element)"
   ]
  },
  {
   "cell_type": "markdown",
   "metadata": {},
   "source": [
    "### 02) WAP to capitalize the first and last character of each word in a string."
   ]
  },
  {
   "cell_type": "code",
   "execution_count": 19,
   "metadata": {},
   "outputs": [
    {
     "name": "stdout",
     "output_type": "stream",
     "text": [
      "String before: dipesh kanzariya\n",
      "String after: DipesH KanzariyA\n"
     ]
    }
   ],
   "source": [
    "s = input(\"Enter a string : \")\n",
    "print(\"String before:\", s)\n",
    "a = s.split()\n",
    "res = []\n",
    "for i in a:\n",
    "    x = i[0].upper()+i[1:-1]+i[-1].upper()\n",
    "    res.append(x)\n",
    "res = \" \".join(res)\n",
    "print(\"String after:\", res)"
   ]
  },
  {
   "cell_type": "markdown",
   "metadata": {},
   "source": [
    "### 03) WAP to find Maximum frequency character in String."
   ]
  },
  {
   "cell_type": "code",
   "execution_count": 20,
   "metadata": {},
   "outputs": [
    {
     "name": "stdout",
     "output_type": "stream",
     "text": [
      "a\n"
     ]
    }
   ],
   "source": [
    "str1 = input(\"Enter a string : \")\n",
    "freq = {}\n",
    "for i in str1 :\n",
    "    if i in freq :\n",
    "        freq[i] = freq[i] + 1\n",
    "    else :\n",
    "        freq[i] = 1\n",
    "\n",
    "result = max(freq,key = freq.get)\n",
    "print(result)"
   ]
  },
  {
   "cell_type": "markdown",
   "metadata": {},
   "source": [
    "### 04) WAP to find Minimum frequency character in String."
   ]
  },
  {
   "cell_type": "code",
   "execution_count": 21,
   "metadata": {},
   "outputs": [
    {
     "name": "stdout",
     "output_type": "stream",
     "text": [
      "d\n"
     ]
    }
   ],
   "source": [
    "str1 = input(\"Enter a string : \")\n",
    "freq = {}\n",
    "for i in str1 :\n",
    "    if i in freq :\n",
    "        freq[i] = freq[i] + 1\n",
    "    else :\n",
    "        freq[i] = 1\n",
    "\n",
    "result = min(freq,key = freq.get)\n",
    "print(result)"
   ]
  },
  {
   "cell_type": "markdown",
   "metadata": {},
   "source": [
    "### 05) WAP to check if a given string is binary string or not"
   ]
  },
  {
   "cell_type": "code",
   "execution_count": null,
   "metadata": {},
   "outputs": [],
   "source": [
    "string = input(\"Enter a String : \")\n",
    "if(string.count('0')+string.count('1')==len(string)):\n",
    "    print(\"Binary\")\n",
    "else:\n",
    "    print(\"Not Binary\")"
   ]
  }
 ],
 "metadata": {
  "kernelspec": {
   "display_name": "base",
   "language": "python",
   "name": "python3"
  },
  "language_info": {
   "codemirror_mode": {
    "name": "ipython",
    "version": 3
   },
   "file_extension": ".py",
   "mimetype": "text/x-python",
   "name": "python",
   "nbconvert_exporter": "python",
   "pygments_lexer": "ipython3",
   "version": "3.9.13"
  },
  "vscode": {
   "interpreter": {
    "hash": "0ea62ad27a92d0062a763f5c86a410084d6373363fa0092be3fbd0a3801f48ec"
   }
  }
 },
 "nbformat": 4,
 "nbformat_minor": 4
}
