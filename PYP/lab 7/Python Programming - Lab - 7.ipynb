{
 "cells": [
  {
   "cell_type": "markdown",
   "metadata": {},
   "source": [
    "<a href='https://www.darshan.ac.in/'> <img src='https://www.darshan.ac.in/Content/media/DU_Logo.svg' width=\"250\" height=\"300\"/></a>\n",
    "<pre>\n",
    "<center><b><h1>Python Programming - 2101CS405</b></center>\n",
    "<center><b><h1>Lab - 7</b></center>    \n",
    "<pre>"
   ]
  },
  {
   "cell_type": "markdown",
   "metadata": {},
   "source": [
    "# Functions"
   ]
  },
  {
   "cell_type": "markdown",
   "metadata": {},
   "source": [
    "### 01) WAP to count simple interest using function."
   ]
  },
  {
   "cell_type": "code",
   "execution_count": null,
   "metadata": {},
   "outputs": [
    {
     "data": {
      "text/plain": [
       "1000.0"
      ]
     },
     "execution_count": 1,
     "metadata": {},
     "output_type": "execute_result"
    }
   ],
   "source": [
    "def simple_interest(p, r, n):\n",
    "    return (p * r * n) / 100\n",
    "\n",
    "simple_interest(5000, 10 , 2)"
   ]
  },
  {
   "cell_type": "markdown",
   "metadata": {},
   "source": [
    "### 02) WAP that defines a function to add first n numbers."
   ]
  },
  {
   "cell_type": "code",
   "execution_count": null,
   "metadata": {},
   "outputs": [
    {
     "data": {
      "text/plain": [
       "15"
      ]
     },
     "execution_count": 9,
     "metadata": {},
     "output_type": "execute_result"
    }
   ],
   "source": [
    "def sum_of_n(n) :\n",
    "    sum = 0\n",
    "    for i in range(1, n+1) :\n",
    "        sum += i\n",
    "    return sum\n",
    "        \n",
    "n = int(input(\"enter n : \"))\n",
    "sum_of_n(n)"
   ]
  },
  {
   "cell_type": "markdown",
   "metadata": {},
   "source": [
    "### 03) WAP to find maximum number from given two numbers using function."
   ]
  },
  {
   "cell_type": "code",
   "execution_count": 12,
   "metadata": {},
   "outputs": [
    {
     "data": {
      "text/plain": [
       "7"
      ]
     },
     "execution_count": 12,
     "metadata": {},
     "output_type": "execute_result"
    }
   ],
   "source": [
    "def max_from_two (n1 , n2) :\n",
    "    return n1 if n1 > n2 else n2\n",
    "\n",
    "n1 = int(input(\"enter n1 : \"))\n",
    "n2 = int(input(\"enter n2 : \"))\n",
    "\n",
    "max_from_two(n1, n2)"
   ]
  },
  {
   "cell_type": "markdown",
   "metadata": {},
   "source": [
    "### 04) WAP that defines a function which returns 1 if the number is prime otherwise return 0."
   ]
  },
  {
   "cell_type": "code",
   "execution_count": 13,
   "metadata": {},
   "outputs": [
    {
     "data": {
      "text/plain": [
       "1"
      ]
     },
     "execution_count": 13,
     "metadata": {},
     "output_type": "execute_result"
    }
   ],
   "source": [
    "def prime(n) :\n",
    "    for i in range(2, int(n/2)) :\n",
    "        if n % i == 0 :\n",
    "            return 0\n",
    "    else : \n",
    "        return 1\n",
    "    \n",
    "n = int(input(\"enter n : \"))\n",
    "\n",
    "prime(n)"
   ]
  },
  {
   "cell_type": "markdown",
   "metadata": {},
   "source": [
    "### 05) Write a function called primes that takes an integer value as an argument and returns a list of all prime numbers up to that number."
   ]
  },
  {
   "cell_type": "code",
   "execution_count": 17,
   "metadata": {},
   "outputs": [
    {
     "data": {
      "text/plain": [
       "[2, 3, 4, 5, 7, 11, 13, 17, 19]"
      ]
     },
     "execution_count": 17,
     "metadata": {},
     "output_type": "execute_result"
    }
   ],
   "source": [
    "def primes(n) :\n",
    "    arr = [i for i in range(2, n+1)]\n",
    "    p_arr = list(filter(prime,arr))\n",
    "    return p_arr\n",
    "\n",
    "n = int(input('Enter n : '))\n",
    "\n",
    "primes(n)"
   ]
  },
  {
   "cell_type": "markdown",
   "metadata": {},
   "source": [
    "### 06) WAP to generate Fibonacci series of N given number using function name fibbo. (e.g. 0 1 1 2 3 5 8...)"
   ]
  },
  {
   "cell_type": "code",
   "execution_count": 19,
   "metadata": {},
   "outputs": [
    {
     "name": "stdout",
     "output_type": "stream",
     "text": [
      " 0 1  1  2  3  5  8 "
     ]
    }
   ],
   "source": [
    "def fibbo(n) :\n",
    "    current,prev,next = 0, 0, 1\n",
    "    print(f\" {prev} {next}\", end = \" \") \n",
    "    for i in range(n) :\n",
    "        current = prev + next\n",
    "        print(f\" {current}\", end = \" \")\n",
    "        prev = next\n",
    "        next = current\n",
    "        \n",
    "n = int(input('Enter n : '))\n",
    "\n",
    "fibbo(n)"
   ]
  },
  {
   "cell_type": "markdown",
   "metadata": {},
   "source": [
    "### 07) WAP to find the factorial of a given number using recursion."
   ]
  },
  {
   "cell_type": "code",
   "execution_count": 20,
   "metadata": {},
   "outputs": [
    {
     "data": {
      "text/plain": [
       "120"
      ]
     },
     "execution_count": 20,
     "metadata": {},
     "output_type": "execute_result"
    }
   ],
   "source": [
    "def factorial(n) :\n",
    "    return 1 if n == 0 or n == 1 else n * factorial(n-1)\n",
    "\n",
    "n = int(input('Enter n : '))\n",
    "\n",
    "factorial(n)"
   ]
  },
  {
   "cell_type": "markdown",
   "metadata": {},
   "source": [
    "### 08) WAP to implement simple calculator using lamda function."
   ]
  },
  {
   "cell_type": "code",
   "execution_count": 24,
   "metadata": {},
   "outputs": [
    {
     "data": {
      "text/plain": [
       "30"
      ]
     },
     "execution_count": 24,
     "metadata": {},
     "output_type": "execute_result"
    }
   ],
   "source": [
    "n1 = int(input('Enter n1 : '))\n",
    "n2 = int(input('Enter n2 : '))\n",
    "op = input(\"Enter operation : \")\n",
    "\n",
    "# sum = lambda n1, n2 : n1 + n2\n",
    "# sub = lambda n1, n2 : n1 - n2\n",
    "# mul = lambda n1, n2 : n1 * n2\n",
    "# div = lambda n1, n2 : n1 / n2\n",
    "\n",
    "# print(sum(n1, n2))\n",
    "# print(sub(n1, n2))\n",
    "# print(mul(n1, n2))\n",
    "# print(div(n1, n2))\n",
    "\n",
    "calc = lambda n1, n2, op : n1 + n2 if op == \"+\" else n1 - n2 if op == \"-\" else n1 * n2 if op == \"*\" else n1 // n2\n",
    "\n",
    "calc(n1, n2, op)"
   ]
  },
  {
   "cell_type": "markdown",
   "metadata": {},
   "source": [
    "### 09)Write a Python program that accepts a hyphen-separated sequence of words as input and prints the words in a hyphen-separated sequence after sorting them alphabetically\n",
    "Sample Items : green-red-yellow-black-white <br>\n",
    "Expected Result : black-green-red-white-yellow"
   ]
  },
  {
   "cell_type": "code",
   "execution_count": 27,
   "metadata": {},
   "outputs": [
    {
     "name": "stdout",
     "output_type": "stream",
     "text": [
      "black - green - red - white - yellow\n"
     ]
    }
   ],
   "source": [
    "arr = list(set(input(\" \").split(\"-\")))\n",
    "\n",
    "arr.sort()\n",
    "\n",
    "print(\" - \".join(arr))"
   ]
  },
  {
   "cell_type": "markdown",
   "metadata": {},
   "source": [
    "### 10) Write a python program to implement all function arguments type\n",
    "Positional arguments <Br>\n",
    "Default argument <Br>\n",
    "Keyword arguments (named arguments) <Br>\n",
    "Arbitrary arguments (variable-length arguments args and kwargs)"
   ]
  },
  {
   "cell_type": "code",
   "execution_count": null,
   "metadata": {},
   "outputs": [],
   "source": [
    "# Positional argument\n",
    "\n",
    "def fun(a, b) :\n",
    "    return a, b\n",
    "fun(1, 2)\n",
    "\n",
    "# Defalut argument\n",
    "\n",
    "def fun(a, b = 0) :\n",
    "    return a , b\n",
    "fun(5)\n",
    "\n",
    "# Keyword argument\n",
    "\n",
    "def fun(a, b) :\n",
    "    return a, b\n",
    "fun(a = 5, b = 6)\n",
    "\n",
    "# Arbitrary argument\n",
    "# Variable length \n",
    "\n",
    "def fun(*a) :\n",
    "    sum = 0\n",
    "    for i in a :\n",
    "        sum += i\n",
    "fun(5,10,15)\n",
    "\n",
    "# Variable length kwargs \n",
    "\n",
    "def fun(**kwargs) :\n",
    "    sum = 0\n",
    "    for i,j in kwargs.items() :\n",
    "        sum += j\n",
    "fun(a = 5 , b = 10 , c = 15)"
   ]
  },
  {
   "cell_type": "markdown",
   "metadata": {},
   "source": [
    "### 01) WAP to calculate power of a number using recursion."
   ]
  },
  {
   "cell_type": "code",
   "execution_count": 29,
   "metadata": {},
   "outputs": [
    {
     "data": {
      "text/plain": [
       "8"
      ]
     },
     "execution_count": 29,
     "metadata": {},
     "output_type": "execute_result"
    }
   ],
   "source": [
    "def rec_power(n , power) :\n",
    "    return n if power == 1 else n*rec_power(n, power-1)\n",
    "\n",
    "rec_power(2,3)"
   ]
  },
  {
   "cell_type": "markdown",
   "metadata": {},
   "source": [
    "### 02) WAP to count digits of a number using recursion."
   ]
  },
  {
   "cell_type": "code",
   "execution_count": 31,
   "metadata": {},
   "outputs": [
    {
     "data": {
      "text/plain": [
       "3"
      ]
     },
     "execution_count": 31,
     "metadata": {},
     "output_type": "execute_result"
    }
   ],
   "source": [
    "def rec_digit(n) :\n",
    "    return 1 if n < 10 else 1 + rec_digit(n // 10)\n",
    "\n",
    "rec_digit(100) "
   ]
  },
  {
   "cell_type": "markdown",
   "metadata": {},
   "source": [
    "### 03) WAP to reverse an integer number using recursion."
   ]
  },
  {
   "cell_type": "code",
   "execution_count": null,
   "metadata": {},
   "outputs": [],
   "source": []
  },
  {
   "cell_type": "markdown",
   "metadata": {},
   "source": [
    "### 04) WAP to convert decimal number into binary using recursion."
   ]
  },
  {
   "cell_type": "code",
   "execution_count": null,
   "metadata": {},
   "outputs": [],
   "source": []
  }
 ],
 "metadata": {
  "kernelspec": {
   "display_name": "base",
   "language": "python",
   "name": "python3"
  },
  "language_info": {
   "codemirror_mode": {
    "name": "ipython",
    "version": 3
   },
   "file_extension": ".py",
   "mimetype": "text/x-python",
   "name": "python",
   "nbconvert_exporter": "python",
   "pygments_lexer": "ipython3",
   "version": "3.9.13"
  },
  "vscode": {
   "interpreter": {
    "hash": "0ea62ad27a92d0062a763f5c86a410084d6373363fa0092be3fbd0a3801f48ec"
   }
  }
 },
 "nbformat": 4,
 "nbformat_minor": 4
}
